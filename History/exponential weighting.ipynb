{
 "cells": [
  {
   "cell_type": "code",
   "execution_count": 1,
   "metadata": {
    "collapsed": true
   },
   "outputs": [],
   "source": [
    "import pandas as pd\n",
    "import numpy as np\n",
    "import matplotlib.pyplot as plt\n",
    "from matplotlib import cm"
   ]
  },
  {
   "cell_type": "code",
   "execution_count": 7,
   "outputs": [],
   "source": [
    "data = pd.read_csv(\"sample_data_2.csvm.csv\", index_col=0)\n",
    "\n",
    "data.columns = data.columns.astype(np.float)\n",
    "data = data.loc[:,:70]"
   ],
   "metadata": {
    "collapsed": false,
    "pycharm": {
     "name": "#%%\n"
    }
   }
  },
  {
   "cell_type": "code",
   "execution_count": 8,
   "outputs": [
    {
     "data": {
      "text/plain": "<matplotlib.contour.QuadContourSet at 0x1db67000bc8>"
     },
     "execution_count": 8,
     "metadata": {},
     "output_type": "execute_result"
    },
    {
     "data": {
      "text/plain": "<Figure size 432x288 with 1 Axes>",
      "image/png": "[encoded data removed]"
     },
     "metadata": {
      "needs_background": "light"
     },
     "output_type": "display_data"
    }
   ],
   "source": [
    "x,y = np.meshgrid(data.columns,data.index)\n",
    "plt.contourf(x, y, data.values, cmap=cm.hot)"
   ],
   "metadata": {
    "collapsed": false,
    "pycharm": {
     "name": "#%%\n"
    }
   }
  },
  {
   "cell_type": "code",
   "execution_count": 9,
   "outputs": [
    {
     "data": {
      "text/plain": "<matplotlib.contour.QuadContourSet at 0x1db670abb88>"
     },
     "execution_count": 9,
     "metadata": {},
     "output_type": "execute_result"
    },
    {
     "data": {
      "text/plain": "<Figure size 432x288 with 1 Axes>",
      "image/png": "[encoded data removed]"
     },
     "metadata": {
      "needs_background": "light"
     },
     "output_type": "display_data"
    }
   ],
   "source": [
    "plt.contourf(x, y, data.values - np.min(data.values, axis=1)[:, None], cmap=cm.hot)"
   ],
   "metadata": {
    "collapsed": false,
    "pycharm": {
     "name": "#%%\n"
    }
   }
  },
  {
   "cell_type": "code",
   "execution_count": null,
   "outputs": [],
   "source": [],
   "metadata": {
    "collapsed": false,
    "pycharm": {
     "name": "#%%\n"
    }
   }
  },
  {
   "cell_type": "code",
   "execution_count": 13,
   "outputs": [
    {
     "data": {
      "text/plain": "array([[3.28864686, 3.24695889, 3.20558185, 3.16451562, 3.12376009,\n        3.08331514, 3.04318062, 3.00335638, 2.96384226, 2.92463806,\n        2.88574359, 2.84715863, 2.80888297, 2.77091636, 2.73325855,\n        2.69590927, 2.65886822, 2.62213513, 2.58570966, 2.54959149,\n        2.51378028, 2.47827567, 2.44307728, 2.40818473, 2.3735976 ,\n        2.33931548, 2.30533793, 2.2716645 , 2.23829471, 2.20522809,\n        2.17246413, 2.14000233, 2.10784214, 2.07598301, 2.04442439,\n        2.01316569, 1.98220632, 1.95154565, 1.92118307, 1.89111791,\n        1.86134952, 1.83187722, 1.80270031, 1.77381808, 1.74522978,\n        1.71693468, 1.68893202, 1.66122099, 1.63380082, 1.60667067,\n        1.57982973, 1.55327712, 1.527012  , 1.50103346, 1.47534062,\n        1.44993254, 1.42480828, 1.39996691, 1.37540743, 1.35112886,\n        1.3271302 , 1.30341042, 1.27996847, 1.25680329, 1.23391382,\n        1.21129894, 1.18895756, 1.16688854, 1.14509073, 1.12356296,\n        1.10230407, 1.08131284, 1.06058806, 1.0401285 , 1.0199329 ,\n        1.        , 0.98032851, 0.96091713, 0.94176453, 0.92286939,\n        0.90423035, 0.88584603, 0.86771506, 0.84983602, 0.8322075 ,\n        0.81482806, 0.79769625, 0.78081059, 0.76416961, 0.74777179,\n        0.73161563, 0.71569959, 0.70002211, 0.68458164, 0.6693766 ,\n        0.65440538, 0.63966639, 0.62515798, 0.61087853, 0.59682638,\n        0.58299985, 0.56939727, 0.55601694, 0.54285714, 0.52991615,\n        0.51719223]])"
     },
     "execution_count": 13,
     "metadata": {},
     "output_type": "execute_result"
    }
   ],
   "source": [
    "multiplier = np.ones((1, data.shape[0]))\n",
    "for idx, i in enumerate(multiplier[0]):\n",
    "    length = multiplier[0].__len__()\n",
    "    T0 = 30\n",
    "    multiplier[0][length - idx - 1]*=np.exp(6*(idx - 30)/(273+idx))\n",
    "multiplier"
   ],
   "metadata": {
    "collapsed": false,
    "pycharm": {
     "name": "#%%\n"
    }
   }
  },
  {
   "cell_type": "code",
   "execution_count": 17,
   "outputs": [
    {
     "data": {
      "text/plain": "                                                    0.000000   0.207887   \\\nDistance (horizontal) vs. Temperature (°C) (ver...                         \n20.0                                                 0.156078   0.165197   \n21.0                                                 0.159485   0.153593   \n22.0                                                 0.129454   0.135197   \n23.0                                                 0.117715   0.117028   \n24.0                                                 0.099875   0.095665   \n...                                                       ...        ...   \n121.0                                                0.003903   0.003824   \n122.0                                                0.004377   0.004555   \n123.0                                                0.004516   0.004423   \n124.0                                                0.002753   0.002962   \n125.0                                                0.004285   0.004264   \n\n                                                    0.415774   0.623662   \\\nDistance (horizontal) vs. Temperature (°C) (ver...                         \n20.0                                                 0.165833   0.163394   \n21.0                                                 0.160622   0.159175   \n22.0                                                 0.134491   0.131771   \n23.0                                                 0.111138   0.120072   \n24.0                                                 0.100831   0.096526   \n...                                                       ...        ...   \n121.0                                                0.003976   0.004002   \n122.0                                                0.004437   0.004446   \n123.0                                                0.004623   0.004464   \n124.0                                                0.002723   0.002847   \n125.0                                                0.004356   0.004256   \n\n                                                    0.831549   1.039436   \\\nDistance (horizontal) vs. Temperature (°C) (ver...                         \n20.0                                                 0.162228   0.161380   \n21.0                                                 0.155764   0.154110   \n22.0                                                 0.132275   0.136506   \n23.0                                                 0.113101   0.112610   \n24.0                                                 0.099779   0.091265   \n...                                                       ...        ...   \n121.0                                                0.003763   0.004100   \n122.0                                                0.004486   0.004498   \n123.0                                                0.004467   0.004539   \n124.0                                                0.002847   0.002756   \n125.0                                                0.004070   0.004387   \n\n                                                    1.247323   1.455210   \\\nDistance (horizontal) vs. Temperature (°C) (ver...                         \n20.0                                                 0.162440   0.156502   \n21.0                                                 0.156074   0.152250   \n22.0                                                 0.135096   0.135398   \n23.0                                                 0.116145   0.113788   \n24.0                                                 0.100066   0.103223   \n...                                                       ...        ...   \n121.0                                                0.003951   0.003846   \n122.0                                                0.004398   0.004507   \n123.0                                                0.004314   0.004363   \n124.0                                                0.002764   0.002904   \n125.0                                                0.004261   0.004324   \n\n                                                    1.663098   1.870985   ...  \\\nDistance (horizontal) vs. Temperature (°C) (ver...                        ...   \n20.0                                                 0.154594   0.155760  ...   \n21.0                                                 0.149252   0.156281  ...   \n22.0                                                 0.131771   0.129152  ...   \n23.0                                                 0.116145   0.115850  ...   \n24.0                                                 0.099683   0.096718  ...   \n...                                                       ...        ...  ...   \n121.0                                                0.003709   0.003916  ...   \n122.0                                                0.004543   0.004346  ...   \n123.0                                                0.004585   0.004628  ...   \n124.0                                                0.002692   0.002811  ...   \n125.0                                                0.004282   0.004178  ...   \n\n                                                    67.979117  68.187004  \\\nDistance (horizontal) vs. Temperature (°C) (ver...                         \n20.0                                                 0.533444   0.530581   \n21.0                                                 0.522279   0.515354   \n22.0                                                 0.495352   0.496259   \n23.0                                                 0.458688   0.462222   \n24.0                                                 0.439487   0.442070   \n...                                                       ...        ...   \n121.0                                                0.004154   0.003960   \n122.0                                                0.004392   0.004504   \n123.0                                                0.004548   0.004519   \n124.0                                                0.002929   0.002960   \n125.0                                                0.004133   0.004442   \n\n                                                    68.394892  68.602779  \\\nDistance (horizontal) vs. Temperature (°C) (ver...                         \n20.0                                                 0.518175   0.528884   \n21.0                                                 0.511943   0.514424   \n22.0                                                 0.484975   0.492229   \n23.0                                                 0.461535   0.454859   \n24.0                                                 0.442357   0.434704   \n...                                                       ...        ...   \n121.0                                                0.004005   0.004339   \n122.0                                                0.004652   0.004601   \n123.0                                                0.004692   0.004507   \n124.0                                                0.002962   0.003127   \n125.0                                                0.004235   0.004435   \n\n                                                    68.810666  69.018553  \\\nDistance (horizontal) vs. Temperature (°C) (ver...                         \n20.0                                                 0.526128   0.525385   \n21.0                                                 0.513907   0.520522   \n22.0                                                 0.487494   0.484975   \n23.0                                                 0.460357   0.455153   \n24.0                                                 0.428199   0.429251   \n...                                                       ...        ...   \n121.0                                                0.003967   0.003992   \n122.0                                                0.004583   0.004443   \n123.0                                                0.004496   0.004637   \n124.0                                                0.002899   0.002833   \n125.0                                                0.004317   0.004091   \n\n                                                    69.226440  69.434328  \\\nDistance (horizontal) vs. Temperature (°C) (ver...                         \n20.0                                                 0.532277   0.534504   \n21.0                                                 0.516284   0.518662   \n22.0                                                 0.488602   0.490214   \n23.0                                                 0.453877   0.461044   \n24.0                                                 0.434608   0.437000   \n...                                                       ...        ...   \n121.0                                                0.003875   0.004297   \n122.0                                                0.004565   0.004571   \n123.0                                                0.004501   0.004498   \n124.0                                                0.002880   0.003169   \n125.0                                                0.004251   0.004301   \n\n                                                    69.642215  69.850102  \nDistance (horizontal) vs. Temperature (°C) (ver...                        \n20.0                                                 0.536413   0.540442  \n21.0                                                 0.527861   0.530445  \n22.0                                                 0.494143   0.498475  \n23.0                                                 0.461829   0.465953  \n24.0                                                 0.439965   0.443218  \n...                                                       ...        ...  \n121.0                                                0.004259   0.003897  \n122.0                                                0.004546   0.004634  \n123.0                                                0.004634   0.004496  \n124.0                                                0.002833   0.002830  \n125.0                                                0.004172   0.004353  \n\n[106 rows x 337 columns]",
      "text/html": "<div>\n<style scoped>\n    .dataframe tbody tr th:only-of-type {\n        vertical-align: middle;\n    }\n\n    .dataframe tbody tr th {\n        vertical-align: top;\n    }\n\n    .dataframe thead th {\n        text-align: right;\n    }\n</style>\n<table border=\"1\" class=\"dataframe\">\n  <thead>\n    <tr style=\"text-align: right;\">\n      <th></th>\n      <th>0.000000</th>\n      <th>0.207887</th>\n      <th>0.415774</th>\n      <th>0.623662</th>\n      <th>0.831549</th>\n      <th>1.039436</th>\n      <th>1.247323</th>\n      <th>1.455210</th>\n      <th>1.663098</th>\n      <th>1.870985</th>\n      <th>...</th>\n      <th>67.979117</th>\n      <th>68.187004</th>\n      <th>68.394892</th>\n      <th>68.602779</th>\n      <th>68.810666</th>\n      <th>69.018553</th>\n      <th>69.226440</th>\n      <th>69.434328</th>\n      <th>69.642215</th>\n      <th>69.850102</th>\n    </tr>\n    <tr>\n      <th>Distance (horizontal) vs. Temperature (°C) (vertical)</th>\n      <th></th>\n      <th></th>\n      <th></th>\n      <th></th>\n      <th></th>\n      <th></th>\n      <th></th>\n      <th></th>\n      <th></th>\n      <th></th>\n      <th></th>\n      <th></th>\n      <th></th>\n      <th></th>\n      <th></th>\n      <th></th>\n      <th></th>\n      <th></th>\n      <th></th>\n      <th></th>\n      <th></th>\n    </tr>\n  </thead>\n  <tbody>\n    <tr>\n      <th>20.0</th>\n      <td>0.156078</td>\n      <td>0.165197</td>\n      <td>0.165833</td>\n      <td>0.163394</td>\n      <td>0.162228</td>\n      <td>0.161380</td>\n      <td>0.162440</td>\n      <td>0.156502</td>\n      <td>0.154594</td>\n      <td>0.155760</td>\n      <td>...</td>\n      <td>0.533444</td>\n      <td>0.530581</td>\n      <td>0.518175</td>\n      <td>0.528884</td>\n      <td>0.526128</td>\n      <td>0.525385</td>\n      <td>0.532277</td>\n      <td>0.534504</td>\n      <td>0.536413</td>\n      <td>0.540442</td>\n    </tr>\n    <tr>\n      <th>21.0</th>\n      <td>0.159485</td>\n      <td>0.153593</td>\n      <td>0.160622</td>\n      <td>0.159175</td>\n      <td>0.155764</td>\n      <td>0.154110</td>\n      <td>0.156074</td>\n      <td>0.152250</td>\n      <td>0.149252</td>\n      <td>0.156281</td>\n      <td>...</td>\n      <td>0.522279</td>\n      <td>0.515354</td>\n      <td>0.511943</td>\n      <td>0.514424</td>\n      <td>0.513907</td>\n      <td>0.520522</td>\n      <td>0.516284</td>\n      <td>0.518662</td>\n      <td>0.527861</td>\n      <td>0.530445</td>\n    </tr>\n    <tr>\n      <th>22.0</th>\n      <td>0.129454</td>\n      <td>0.135197</td>\n      <td>0.134491</td>\n      <td>0.131771</td>\n      <td>0.132275</td>\n      <td>0.136506</td>\n      <td>0.135096</td>\n      <td>0.135398</td>\n      <td>0.131771</td>\n      <td>0.129152</td>\n      <td>...</td>\n      <td>0.495352</td>\n      <td>0.496259</td>\n      <td>0.484975</td>\n      <td>0.492229</td>\n      <td>0.487494</td>\n      <td>0.484975</td>\n      <td>0.488602</td>\n      <td>0.490214</td>\n      <td>0.494143</td>\n      <td>0.498475</td>\n    </tr>\n    <tr>\n      <th>23.0</th>\n      <td>0.117715</td>\n      <td>0.117028</td>\n      <td>0.111138</td>\n      <td>0.120072</td>\n      <td>0.113101</td>\n      <td>0.112610</td>\n      <td>0.116145</td>\n      <td>0.113788</td>\n      <td>0.116145</td>\n      <td>0.115850</td>\n      <td>...</td>\n      <td>0.458688</td>\n      <td>0.462222</td>\n      <td>0.461535</td>\n      <td>0.454859</td>\n      <td>0.460357</td>\n      <td>0.455153</td>\n      <td>0.453877</td>\n      <td>0.461044</td>\n      <td>0.461829</td>\n      <td>0.465953</td>\n    </tr>\n    <tr>\n      <th>24.0</th>\n      <td>0.099875</td>\n      <td>0.095665</td>\n      <td>0.100831</td>\n      <td>0.096526</td>\n      <td>0.099779</td>\n      <td>0.091265</td>\n      <td>0.100066</td>\n      <td>0.103223</td>\n      <td>0.099683</td>\n      <td>0.096718</td>\n      <td>...</td>\n      <td>0.439487</td>\n      <td>0.442070</td>\n      <td>0.442357</td>\n      <td>0.434704</td>\n      <td>0.428199</td>\n      <td>0.429251</td>\n      <td>0.434608</td>\n      <td>0.437000</td>\n      <td>0.439965</td>\n      <td>0.443218</td>\n    </tr>\n    <tr>\n      <th>...</th>\n      <td>...</td>\n      <td>...</td>\n      <td>...</td>\n      <td>...</td>\n      <td>...</td>\n      <td>...</td>\n      <td>...</td>\n      <td>...</td>\n      <td>...</td>\n      <td>...</td>\n      <td>...</td>\n      <td>...</td>\n      <td>...</td>\n      <td>...</td>\n      <td>...</td>\n      <td>...</td>\n      <td>...</td>\n      <td>...</td>\n      <td>...</td>\n      <td>...</td>\n      <td>...</td>\n    </tr>\n    <tr>\n      <th>121.0</th>\n      <td>0.003903</td>\n      <td>0.003824</td>\n      <td>0.003976</td>\n      <td>0.004002</td>\n      <td>0.003763</td>\n      <td>0.004100</td>\n      <td>0.003951</td>\n      <td>0.003846</td>\n      <td>0.003709</td>\n      <td>0.003916</td>\n      <td>...</td>\n      <td>0.004154</td>\n      <td>0.003960</td>\n      <td>0.004005</td>\n      <td>0.004339</td>\n      <td>0.003967</td>\n      <td>0.003992</td>\n      <td>0.003875</td>\n      <td>0.004297</td>\n      <td>0.004259</td>\n      <td>0.003897</td>\n    </tr>\n    <tr>\n      <th>122.0</th>\n      <td>0.004377</td>\n      <td>0.004555</td>\n      <td>0.004437</td>\n      <td>0.004446</td>\n      <td>0.004486</td>\n      <td>0.004498</td>\n      <td>0.004398</td>\n      <td>0.004507</td>\n      <td>0.004543</td>\n      <td>0.004346</td>\n      <td>...</td>\n      <td>0.004392</td>\n      <td>0.004504</td>\n      <td>0.004652</td>\n      <td>0.004601</td>\n      <td>0.004583</td>\n      <td>0.004443</td>\n      <td>0.004565</td>\n      <td>0.004571</td>\n      <td>0.004546</td>\n      <td>0.004634</td>\n    </tr>\n    <tr>\n      <th>123.0</th>\n      <td>0.004516</td>\n      <td>0.004423</td>\n      <td>0.004623</td>\n      <td>0.004464</td>\n      <td>0.004467</td>\n      <td>0.004539</td>\n      <td>0.004314</td>\n      <td>0.004363</td>\n      <td>0.004585</td>\n      <td>0.004628</td>\n      <td>...</td>\n      <td>0.004548</td>\n      <td>0.004519</td>\n      <td>0.004692</td>\n      <td>0.004507</td>\n      <td>0.004496</td>\n      <td>0.004637</td>\n      <td>0.004501</td>\n      <td>0.004498</td>\n      <td>0.004634</td>\n      <td>0.004496</td>\n    </tr>\n    <tr>\n      <th>124.0</th>\n      <td>0.002753</td>\n      <td>0.002962</td>\n      <td>0.002723</td>\n      <td>0.002847</td>\n      <td>0.002847</td>\n      <td>0.002756</td>\n      <td>0.002764</td>\n      <td>0.002904</td>\n      <td>0.002692</td>\n      <td>0.002811</td>\n      <td>...</td>\n      <td>0.002929</td>\n      <td>0.002960</td>\n      <td>0.002962</td>\n      <td>0.003127</td>\n      <td>0.002899</td>\n      <td>0.002833</td>\n      <td>0.002880</td>\n      <td>0.003169</td>\n      <td>0.002833</td>\n      <td>0.002830</td>\n    </tr>\n    <tr>\n      <th>125.0</th>\n      <td>0.004285</td>\n      <td>0.004264</td>\n      <td>0.004356</td>\n      <td>0.004256</td>\n      <td>0.004070</td>\n      <td>0.004387</td>\n      <td>0.004261</td>\n      <td>0.004324</td>\n      <td>0.004282</td>\n      <td>0.004178</td>\n      <td>...</td>\n      <td>0.004133</td>\n      <td>0.004442</td>\n      <td>0.004235</td>\n      <td>0.004435</td>\n      <td>0.004317</td>\n      <td>0.004091</td>\n      <td>0.004251</td>\n      <td>0.004301</td>\n      <td>0.004172</td>\n      <td>0.004353</td>\n    </tr>\n  </tbody>\n</table>\n<p>106 rows × 337 columns</p>\n</div>"
     },
     "execution_count": 17,
     "metadata": {},
     "output_type": "execute_result"
    }
   ],
   "source": [
    "(multiplier.T * data)\n"
   ],
   "metadata": {
    "collapsed": false,
    "pycharm": {
     "name": "#%%\n"
    }
   }
  },
  {
   "cell_type": "code",
   "execution_count": 18,
   "outputs": [
    {
     "data": {
      "text/plain": "3.713420252116105"
     },
     "execution_count": 18,
     "metadata": {},
     "output_type": "execute_result"
    }
   ],
   "source": [
    "T0 = 25\n",
    "T = 70\n",
    "np.exp(10*(T-T0)/(273+T))\n"
   ],
   "metadata": {
    "collapsed": false,
    "pycharm": {
     "name": "#%%\n"
    }
   }
  },
  {
   "cell_type": "code",
   "execution_count": 19,
   "outputs": [
    {
     "data": {
      "text/plain": "3.5"
     },
     "execution_count": 19,
     "metadata": {},
     "output_type": "execute_result"
    }
   ],
   "source": [
    "multiplier = np.ones((1, data.shape[0]))\n",
    "for idx, i in enumerate(multiplier[0]):\n",
    "    length = multiplier[0].__len__()\n",
    "    T0 = 30\n",
    "    multiplier[0][length - idx - 1]*=np.exp(6*(idx - 30)/(273+idx))\n",
    "data = (multiplier.T * data)\n",
    "\n",
    "temp_test = np.array([1,2,3,4,5,6])\n",
    "np.mean(temp_test)"
   ],
   "metadata": {
    "collapsed": false,
    "pycharm": {
     "name": "#%%\n"
    }
   }
  },
  {
   "cell_type": "code",
   "execution_count": null,
   "outputs": [],
   "source": [
    "\n"
   ],
   "metadata": {
    "collapsed": false,
    "pycharm": {
     "name": "#%%\n"
    }
   }
  }
 ],
 "metadata": {
  "kernelspec": {
   "display_name": "Python 3",
   "language": "python",
   "name": "python3"
  },
  "language_info": {
   "codemirror_mode": {
    "name": "ipython",
    "version": 2
   },
   "file_extension": ".py",
   "mimetype": "text/x-python",
   "name": "python",
   "nbconvert_exporter": "python",
   "pygments_lexer": "ipython2",
   "version": "2.7.6"
  }
 },
 "nbformat": 4,
 "nbformat_minor": 0
}